{
 "cells": [
  {
   "cell_type": "code",
   "execution_count": 2,
   "id": "12fed467",
   "metadata": {},
   "outputs": [],
   "source": [
    "class Solution:\n",
    "    def searchMatrix(self, matrix: list[list[int]], target: int) -> bool:\n",
    "        rows, cols = len(matrix), len(matrix[0])\n",
    "        \n",
    "        \n",
    "        # we need 2 pointers 1 on top of row one on last row\n",
    "        top,bottom = 0,rows-1\n",
    "        \n",
    "        #run binary search to select the row where to find target\n",
    "        while top<=bottom:\n",
    "            midrow = (top+bottom)//2\n",
    "            if target > matrix[midrow][-1]:\n",
    "                top = midrow +1\n",
    "            elif target < matrix[midrow][0]:\n",
    "                bottom = midrow -1\n",
    "            else:\n",
    "                break\n",
    "            \n",
    "        # from BS1 once row is selected we need BS to search for  target in that row\n",
    "        \n",
    "        if not (top<=bottom):\n",
    "            return False\n",
    "        \n",
    "        # select the mid of the row where we need to sarch target\n",
    "        mid = (top + bottom) //2\n",
    "        \n",
    "        # Assign left and right pointers in that row\n",
    "        l,r = 0, cols-1\n",
    "        \n",
    "        # Doing binary search on that row to get the target\n",
    "        while l<=r:\n",
    "            m = (l+r) //2\n",
    "            if target > matrix[mid][m]:\n",
    "                l = m+1\n",
    "            elif target < matrix[mid][m]:\n",
    "                r = m-1\n",
    "            else:\n",
    "                return True\n",
    "        return False"
   ]
  },
  {
   "cell_type": "code",
   "execution_count": null,
   "id": "550ceeb8",
   "metadata": {},
   "outputs": [],
   "source": []
  }
 ],
 "metadata": {
  "kernelspec": {
   "display_name": "Python 3 (ipykernel)",
   "language": "python",
   "name": "python3"
  },
  "language_info": {
   "codemirror_mode": {
    "name": "ipython",
    "version": 3
   },
   "file_extension": ".py",
   "mimetype": "text/x-python",
   "name": "python",
   "nbconvert_exporter": "python",
   "pygments_lexer": "ipython3",
   "version": "3.9.7"
  }
 },
 "nbformat": 4,
 "nbformat_minor": 5
}
