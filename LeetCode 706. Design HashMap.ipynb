{
 "cells": [
  {
   "cell_type": "code",
   "execution_count": 1,
   "id": "d80bd1a1",
   "metadata": {},
   "outputs": [],
   "source": [
    "class MyHashMap:\n",
    "\n",
    "    def __init__(self):\n",
    "        self.list = [-1]*10000001  #initialiaze a list and mark all the index pos to -1\n",
    "        \n",
    "\n",
    "    def put(self, key: int, value: int) -> None:\n",
    "        self.list[key] = value     # at the index key insert the value\n",
    "        \n",
    "\n",
    "    def get(self, key: int) -> int:\n",
    "        return self.list[key]      # return the value at the key index\n",
    "        \n",
    "\n",
    "    def remove(self, key: int) -> None:\n",
    "        self.list[key] =-1         # update the key index to -1 to remove the value\n",
    "        \n",
    "\n",
    "\n",
    "# Your MyHashMap object will be instantiated and called as such:\n",
    "# obj = MyHashMap()\n",
    "# obj.put(key,value)\n",
    "# param_2 = obj.get(key)\n",
    "# obj.remove(key)"
   ]
  },
  {
   "cell_type": "code",
   "execution_count": null,
   "id": "44915a26",
   "metadata": {},
   "outputs": [],
   "source": []
  }
 ],
 "metadata": {
  "kernelspec": {
   "display_name": "Python 3 (ipykernel)",
   "language": "python",
   "name": "python3"
  },
  "language_info": {
   "codemirror_mode": {
    "name": "ipython",
    "version": 3
   },
   "file_extension": ".py",
   "mimetype": "text/x-python",
   "name": "python",
   "nbconvert_exporter": "python",
   "pygments_lexer": "ipython3",
   "version": "3.9.7"
  }
 },
 "nbformat": 4,
 "nbformat_minor": 5
}
