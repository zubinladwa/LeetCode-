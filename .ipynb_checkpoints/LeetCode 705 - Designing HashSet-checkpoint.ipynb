{
 "cells": [
  {
   "cell_type": "code",
   "execution_count": 1,
   "id": "377295c4",
   "metadata": {},
   "outputs": [],
   "source": [
    "class MyHashSet:\n",
    "\n",
    "    def __init__(self):\n",
    "        self.size = 10000                 # initilizing array size to 10000 bcoz its given in the constraints\n",
    "        self.table = [None] *self.size    #initilizing hash table \n",
    "\n",
    "    def hashcode(self,key):\n",
    "        hashvalue = key % self.size       # we take the key and mod it with the size of the array to get the hashvalue.\n",
    "        return hashvalue\n",
    "    \n",
    "    def add(self, key: int) -> None:\n",
    "        hv = self.hashcode(key)           # here we get the hashvaleu(hv) so know the index position where we need to insert the key\n",
    "        if self.table[hv] == None:        # we will check if at that index position in table is none, if yes then we will add our key value there.\n",
    "            self.table[hv] = [key]        # adding the value of the key at that index of the table\n",
    "        else:\n",
    "            self.table[hv].append(key)    # if the value already exixst at that index position in the table we will append the key in that index position \n",
    "\n",
    "    def remove(self, key: int) -> None:\n",
    "        hv = self.hashcode(key)           # we will first get the hashvalue which will help us get the index pos where we need to remove \n",
    "        if self.table[hv] !=None:         # we will check if at that index position a value exist\n",
    "            while key in self.table[hv]:  # we will remove the value from that index position and \n",
    "                self.table[hv].remove(key)# we use while loop becoz we need to delete all instabces of that key in that index positon\n",
    "\n",
    "    def contains(self, key: int) -> bool:\n",
    "        hv = self.hashcode(key)           #we will first get the hashvalue to know which index position to check\n",
    "        \n",
    "        if self.table[hv] != None:        # if the index positopn in that table is not null\n",
    "            if key in self.table[hv]:     # we will just check if the key is in the table at that index position, If yes we return True as its bool \n",
    "                return True\n",
    "            else:\n",
    "                return False               #else we return false\n",
    " \n",
    "            \n",
    "        \n",
    "\n",
    "\n",
    "# Your MyHashSet object will be instantiated and called as such:\n",
    "# obj = MyHashSet()\n",
    "# obj.add(key)\n",
    "# obj.remove(key)\n",
    "# param_3 = obj.contains(key)"
   ]
  },
  {
   "cell_type": "code",
   "execution_count": null,
   "id": "172a21f0",
   "metadata": {},
   "outputs": [],
   "source": []
  }
 ],
 "metadata": {
  "kernelspec": {
   "display_name": "Python 3 (ipykernel)",
   "language": "python",
   "name": "python3"
  },
  "language_info": {
   "codemirror_mode": {
    "name": "ipython",
    "version": 3
   },
   "file_extension": ".py",
   "mimetype": "text/x-python",
   "name": "python",
   "nbconvert_exporter": "python",
   "pygments_lexer": "ipython3",
   "version": "3.9.7"
  }
 },
 "nbformat": 4,
 "nbformat_minor": 5
}
